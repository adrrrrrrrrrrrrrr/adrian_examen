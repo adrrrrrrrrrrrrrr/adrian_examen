{
  "nbformat": 4,
  "nbformat_minor": 0,
  "metadata": {
    "colab": {
      "provenance": []
    },
    "kernelspec": {
      "name": "python3",
      "display_name": "Python 3"
    },
    "language_info": {
      "name": "python"
    }
  },
  "cells": [
    {
      "cell_type": "code",
      "execution_count": null,
      "metadata": {
        "id": "GLUicptYMK93"
      },
      "outputs": [],
      "source": [
        "import numpy as np"
      ]
    },
    {
      "cell_type": "code",
      "source": [
        "matriz = np.arange(1,10*10+1).reshape(10,10).astype(str)\n",
        "personas = np.empty (((0,2)), dtype = object)"
      ],
      "metadata": {
        "id": "M1E6bQXTN9bv"
      },
      "execution_count": 122,
      "outputs": []
    },
    {
      "cell_type": "code",
      "source": [
        "contador = 0\n",
        "reservados = []\n",
        "posicion = 0\n",
        "\n",
        "total = 0\n",
        "platinum = 120000\n",
        "gold = 80000\n",
        "silver = 50000\n",
        "\n",
        "can_total = 0\n",
        "can_platinum = 0\n",
        "can_gold = 0\n",
        "can_silver = 0\n",
        "tot_platinum = 0\n",
        "tot_gold = 0\n",
        "tot_silver = 0\n",
        "total_total = 0"
      ],
      "metadata": {
        "id": "h7iPbljrTaMm"
      },
      "execution_count": 121,
      "outputs": []
    },
    {
      "cell_type": "code",
      "source": [
        "def tipo_asientos(a):\n",
        "  global total, can_platinum, tot_platinum, can_gold, tot_gold, can_silver, tot_silver\n",
        "\n",
        "  if int(a) > 0 and int(a) <= 20:\n",
        "    total = total + platinum\n",
        "    can_platinum +=1\n",
        "    tot_platinum = tot_platinum + platinum\n",
        "  elif int(a) >=21 and int(a) <=50:\n",
        "    total = total + gold\n",
        "    can_gold +=1\n",
        "    tot_gold = tot_gold + gold\n",
        "  elif int(a) >= 51 and int(a) <=100:\n",
        "    total = total + silver\n",
        "    can_silver +=1\n",
        "    tot_silver = tot_silver + silver"
      ],
      "metadata": {
        "id": "Zk3Bq6nsegDP"
      },
      "execution_count": 103,
      "outputs": []
    },
    {
      "cell_type": "code",
      "source": [
        "def comprar():\n",
        "\n",
        "  global contador,personas,matriz,posicion\n",
        "\n",
        "  while True:\n",
        "    try:\n",
        "      rut=int(input(\"Ingrese su RUN, sin punto, guion, ni dijito verificador\\n\"))\n",
        "      if len(str(rut)) >= 7 and  len(str(rut)) <= 9:\n",
        "        cantidad = int(input(\"ingrese la cantidad de entradas que desea reservar\\n\"))\n",
        "        if cantidad > 0 and cantidad < 4:\n",
        "          print(\"||||||||||||||||||||||||ESCENARIO||||||||||||||||||||||||\\n\")\n",
        "          print(matriz)\n",
        "          print(\"\\nlos precios son los siguientes:\")\n",
        "          print(f\"Platinum (asientos del 1 al 20) : $\",platinum,)\n",
        "          print(f\"Gold     (asientos del 21 al 50): $\",gold)\n",
        "          print(f\"Silver   (asientos del 51 al 100): $\",silver)\n",
        "          while contador < cantidad:\n",
        "            asiento = str(input(\"\\nQue numero de asiento desea reservar\\n\"))\n",
        "            if asiento in matriz:\n",
        "              for i in range(matriz.shape[0]):\n",
        "                for j in range(matriz.shape[1]):\n",
        "                  if matriz[i,j] == asiento:\n",
        "                    matriz[i,j] = \"X\"\n",
        "                    fila = np.array([[rut,asiento]],dtype = object)\n",
        "                    personas = np.append(personas, fila , axis = 0)\n",
        "                    contador = contador + 1\n",
        "                    print(\"ASIENTO RESERVADO CON EXITO\\n\")\n",
        "                    tipo_asientos(asiento)\n",
        "                    break\n",
        "            else:\n",
        "              print(\"ASIENTO NO DISPONIBLE(YA RESERVADO)\\n\")\n",
        "          break\n",
        "        else:\n",
        "              print(\"La cantidad de entradas debe fluctuar entre 1 y 3\")\n",
        "      else:\n",
        "              print(\"El RUN ingresado no es valido\")\n",
        "    except ValueError:\n",
        "      print(\"lo ingresado no es valido\")\n",
        "  contador = 0\n",
        "  posicion =+1\n",
        ""
      ],
      "metadata": {
        "id": "guQrsp1QUk_s"
      },
      "execution_count": 108,
      "outputs": []
    },
    {
      "cell_type": "code",
      "source": [
        "def mostrar_ubicaciones():\n",
        "  print(\"las ubicaciones disponibles son las siguientes\\n\")\n",
        "  print(\"||||||||||||||||||||||ESCENARIO||||||||||||||||||||||\\n\")\n",
        "  print(matriz)\n",
        "  print(\"\\nimportante: Considerar que las marcadas con X ya se encuentran RESERVADAS\\n\")\n"
      ],
      "metadata": {
        "id": "1RK_F5BqgIBF"
      },
      "execution_count": 109,
      "outputs": []
    },
    {
      "cell_type": "code",
      "source": [
        "def listado_asistentes():\n",
        "  listado_ordenado = np.argsort(personas[:, 0])\n",
        "  arreglo_ordenado = personas[listado_ordenado]\n",
        "  print(arreglo_ordenado)\n",
        "\n",
        "\n"
      ],
      "metadata": {
        "id": "mUGVsbPBnd6x"
      },
      "execution_count": 141,
      "outputs": []
    },
    {
      "cell_type": "code",
      "source": [
        "def ganancias_totales():\n",
        "\n",
        "  can_total = can_platinum + can_gold + can_silver\n",
        "  total_total = tot_platinum + tot_gold + tot_silver\n",
        "\n",
        "  print(\"Tipo de entrada\", \"   \"  \"cantidad\", \"        \"  \"total\")\n",
        "  print(f\"Platinum\",\"          \", can_platinum, \"          $\", tot_platinum  )\n",
        "  print(f\"Gold\",\"              \",  can_gold,   \"          $\", tot_gold  )\n",
        "  print(f\"Silver\",\"            \",  can_silver, \"          $\", tot_silver  )\n",
        "  print(f\"TOTAL\",\"             \",  can_total,\"          $\",total_total )\n",
        "\n",
        "\n",
        "\n",
        "\n"
      ],
      "metadata": {
        "id": "3VlYDUtsrYZR"
      },
      "execution_count": 196,
      "outputs": []
    },
    {
      "cell_type": "code",
      "source": [
        "def salir():\n",
        "\n",
        "  print(\"Ha seleccionado la opcion SALIR\")\n",
        "  print(\"Hasta Pronto!!!\")\n",
        "  print(\"Adrian Quezada\")\n",
        "  print(\"Fecha 11-07-2023\")"
      ],
      "metadata": {
        "id": "5na7-RacRHlS"
      },
      "execution_count": 83,
      "outputs": []
    },
    {
      "cell_type": "code",
      "source": [
        "def menu():\n",
        "  while True:\n",
        "    try:\n",
        "      print(70*\"-\")\n",
        "      print(\"\\nBienvenido a la venta de entradas de Michal Jam.\\n\")\n",
        "      print(\"las opciones disponibles son las siguientes\\n\")\n",
        "      print(\"1 - Comprar Entradas\")\n",
        "      print(\"2 - Mostrar Ubicaciones Disponibles\")\n",
        "      print(\"3 - Ver Listado de asistentes\")\n",
        "      print(\"4 - Mostrar ganancias totales\")\n",
        "      print(\"0 - Salir\\n\")\n",
        "\n",
        "      opcion = int(input(\"que opcion desea realizar\\n\"))\n",
        "\n",
        "      if opcion == 1:\n",
        "        comprar()\n",
        "      elif opcion == 2:\n",
        "        mostrar_ubicaciones()\n",
        "      elif opcion == 3:\n",
        "        listado_asistentes()\n",
        "      elif opcion == 4:\n",
        "        ganancias_totales()\n",
        "      elif opcion == 0:\n",
        "        salir()\n",
        "        break\n",
        "      else:\n",
        "        print(\"La opcion ingresada NO es valida\")\n",
        "    except ValueError:\n",
        "      print(\"lo ingresado no es valido\")\n",
        "\n",
        "\n",
        "\n"
      ],
      "metadata": {
        "id": "aCwnogICN9__"
      },
      "execution_count": 84,
      "outputs": []
    },
    {
      "cell_type": "code",
      "source": [
        "print(matriz)"
      ],
      "metadata": {
        "id": "wejyYa5eRo7h"
      },
      "execution_count": null,
      "outputs": []
    },
    {
      "cell_type": "code",
      "source": [
        "ganancias_totales()"
      ],
      "metadata": {
        "id": "7MDi8TDOe-jN"
      },
      "execution_count": null,
      "outputs": []
    },
    {
      "cell_type": "code",
      "source": [
        "comprar()"
      ],
      "metadata": {
        "id": "UwR9rNDqfR5m"
      },
      "execution_count": null,
      "outputs": []
    }
  ]
}